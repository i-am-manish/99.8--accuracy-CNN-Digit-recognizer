{
  "cells": [
    {
      "metadata": {
        "_execution_state": "idle",
        "_uuid": "84bbd5ab8d7895bd430d5ecfe2f7ddf77baa7b74",
        "_cell_guid": "5e51d00e-62fd-4141-bf73-50ac4f2da7d0",
        "trusted": true
      },
      "cell_type": "code",
      "source": "import keras\nfrom keras.layers import Dense,Conv2D,MaxPool2D,Activation, Dropout, Flatten, Dense,BatchNormalization\nfrom keras.models import Sequential\nfrom keras.optimizers import RMSprop\nimport pandas as pd\ntrain = pd.read_csv(\"../input/train.csv\")\nY_train=train[\"label\"]\nX_train=train.drop(labels = [\"label\"],axis = 1)\nX_train /= 255\nY_train = keras.utils.to_categorical(Y_train, 10)\nprint(X_train.shape)\nprint(Y_train.shape)\nX_train = X_train.values.reshape(42000, 28,28, 1)\nprint(X_train.shape)\n",
      "execution_count": 27,
      "outputs": [
        {
          "output_type": "stream",
          "text": "(42000, 784)\n(42000, 10)\n(42000, 28, 28, 1)\n",
          "name": "stdout"
        }
      ]
    },
    {
      "metadata": {
        "trusted": true,
        "_uuid": "ad0be4879870ee02fcfb36ab19cc84a4ec2e96f0",
        "collapsed": true
      },
      "cell_type": "code",
      "source": "model = Sequential()\nmodel.add(Conv2D(input_shape=(28,28,1),filters = 32, kernel_size = (5,5),activation ='relu'))\nmodel.add(MaxPool2D(pool_size=(2,2)))\nmodel.add(Conv2D(filters = 32, kernel_size = (5,5),activation ='relu'))\nmodel.add(MaxPool2D(pool_size=(2,2)))\nmodel.add(Conv2D(filters = 32, kernel_size = (3,3),activation ='relu'))\nmodel.add(Flatten())\nmodel.add(Dense(128,activation='relu'))\nmodel.add(Dropout(0.25))\nmodel.add(Dense(10,activation='softmax'))",
      "execution_count": 28,
      "outputs": []
    },
    {
      "metadata": {
        "trusted": true,
        "_uuid": "b0c6e39e6b931288215de61dbddc5622eb982a03",
        "collapsed": true
      },
      "cell_type": "code",
      "source": "model.compile(loss='categorical_crossentropy',\noptimizer=RMSprop(0.001),\nmetrics=['accuracy'])  ",
      "execution_count": 29,
      "outputs": []
    },
    {
      "metadata": {
        "trusted": true,
        "_uuid": "05cc3169b317a3d9ce0aa19e3dc895572e5b592e"
      },
      "cell_type": "code",
      "source": "model.fit(X_train,Y_train, batch_size=32, epochs=20, verbose=1, validation_split=0.2)",
      "execution_count": 30,
      "outputs": [
        {
          "output_type": "stream",
          "text": "Train on 33600 samples, validate on 8400 samples\nEpoch 1/20\n33600/33600 [==============================] - 9s 275us/step - loss: 0.2588 - acc: 0.9187 - val_loss: 0.0653 - val_acc: 0.9768\nEpoch 2/20\n33600/33600 [==============================] - 9s 257us/step - loss: 0.0748 - acc: 0.9773 - val_loss: 0.0554 - val_acc: 0.9851\nEpoch 3/20\n33600/33600 [==============================] - 9s 270us/step - loss: 0.0499 - acc: 0.9848 - val_loss: 0.0418 - val_acc: 0.9888\nEpoch 4/20\n33600/33600 [==============================] - 9s 269us/step - loss: 0.0397 - acc: 0.9877 - val_loss: 0.0590 - val_acc: 0.9856\nEpoch 5/20\n33600/33600 [==============================] - 9s 265us/step - loss: 0.0315 - acc: 0.9906 - val_loss: 0.0432 - val_acc: 0.9875\nEpoch 6/20\n33600/33600 [==============================] - 9s 261us/step - loss: 0.0286 - acc: 0.9915 - val_loss: 0.0446 - val_acc: 0.9902\nEpoch 7/20\n33600/33600 [==============================] - 9s 256us/step - loss: 0.0244 - acc: 0.9931 - val_loss: 0.0625 - val_acc: 0.9875\nEpoch 8/20\n33600/33600 [==============================] - 9s 257us/step - loss: 0.0210 - acc: 0.9941 - val_loss: 0.0504 - val_acc: 0.9902\nEpoch 9/20\n33600/33600 [==============================] - 9s 259us/step - loss: 0.0210 - acc: 0.9941 - val_loss: 0.0554 - val_acc: 0.9892\nEpoch 10/20\n33600/33600 [==============================] - 9s 259us/step - loss: 0.0164 - acc: 0.9952 - val_loss: 0.0665 - val_acc: 0.9895\nEpoch 11/20\n33600/33600 [==============================] - 9s 263us/step - loss: 0.0179 - acc: 0.9956 - val_loss: 0.0558 - val_acc: 0.9888\nEpoch 12/20\n33600/33600 [==============================] - 9s 264us/step - loss: 0.0140 - acc: 0.9964 - val_loss: 0.0652 - val_acc: 0.9902\nEpoch 13/20\n33600/33600 [==============================] - 9s 261us/step - loss: 0.0142 - acc: 0.9966 - val_loss: 0.0596 - val_acc: 0.9905\nEpoch 14/20\n33600/33600 [==============================] - 9s 261us/step - loss: 0.0129 - acc: 0.9968 - val_loss: 0.0928 - val_acc: 0.9877\nEpoch 15/20\n33600/33600 [==============================] - 9s 256us/step - loss: 0.0152 - acc: 0.9968 - val_loss: 0.1004 - val_acc: 0.9873\nEpoch 16/20\n33600/33600 [==============================] - 9s 257us/step - loss: 0.0120 - acc: 0.9973 - val_loss: 0.0781 - val_acc: 0.9893\nEpoch 17/20\n33600/33600 [==============================] - 9s 262us/step - loss: 0.0120 - acc: 0.9969 - val_loss: 0.0910 - val_acc: 0.9887\nEpoch 18/20\n33600/33600 [==============================] - 9s 261us/step - loss: 0.0117 - acc: 0.9971 - val_loss: 0.0788 - val_acc: 0.9894\nEpoch 19/20\n33600/33600 [==============================] - 9s 263us/step - loss: 0.0124 - acc: 0.9972 - val_loss: 0.0983 - val_acc: 0.9876\nEpoch 20/20\n33600/33600 [==============================] - 9s 261us/step - loss: 0.0102 - acc: 0.9976 - val_loss: 0.0754 - val_acc: 0.9898\n",
          "name": "stdout"
        },
        {
          "output_type": "execute_result",
          "execution_count": 30,
          "data": {
            "text/plain": "<keras.callbacks.History at 0x7f41a615d5c0>"
          },
          "metadata": {}
        }
      ]
    },
    {
      "metadata": {
        "trusted": true,
        "_uuid": "be18042289cb1fee0bbb7b51ce93af4ba6edad19",
        "_kg_hide-output": false,
        "_kg_hide-input": false
      },
      "cell_type": "code",
      "source": "test=pd.read_csv('../input/test.csv')\n\ntest=test.values.reshape(28000,28,28,1)\npredict=model.predict(test)\nprint(predict)\naccuracy = model.evaluate(X_train,Y_train,batch_size=32)\nprint(\"Accuracy: \",accuracy[1])\n\n\n",
      "execution_count": 31,
      "outputs": [
        {
          "output_type": "stream",
          "text": "[[0. 0. 1. ... 0. 0. 0.]\n [1. 0. 0. ... 0. 0. 0.]\n [0. 0. 0. ... 0. 0. 1.]\n ...\n [0. 0. 0. ... 0. 0. 0.]\n [0. 0. 0. ... 0. 0. 1.]\n [0. 0. 1. ... 0. 0. 0.]]\n42000/42000 [==============================] - 3s 82us/step\nAccuracy:  0.9974761904761905\n",
          "name": "stdout"
        }
      ]
    },
    {
      "metadata": {
        "trusted": true,
        "_uuid": "1416adfa8207b65b750d9a05e4d843fbff955cba"
      },
      "cell_type": "code",
      "source": "predict = model.predict_classes(test, verbose=1)",
      "execution_count": 32,
      "outputs": [
        {
          "output_type": "stream",
          "text": "28000/28000 [==============================] - 2s 69us/step\n",
          "name": "stdout"
        }
      ]
    },
    {
      "metadata": {
        "trusted": true,
        "_uuid": "10ef2d955b529c82c7b819a7561f0f3153b0cb78"
      },
      "cell_type": "code",
      "source": "data_predictions = pd.DataFrame({\"ImageId\": list(range(1,len(predict)+1)),\"Label\": predict})\ndata_predictions.to_csv('predictions.csv', index=False, header=True)\nprint(data_predictions)",
      "execution_count": 33,
      "outputs": [
        {
          "output_type": "stream",
          "text": "       ImageId  Label\n0            1      2\n1            2      0\n2            3      9\n3            4      0\n4            5      3\n5            6      7\n6            7      0\n7            8      3\n8            9      0\n9           10      3\n10          11      5\n11          12      7\n12          13      4\n13          14      0\n14          15      4\n15          16      5\n16          17      3\n17          18      1\n18          19      9\n19          20      0\n20          21      9\n21          22      1\n22          23      1\n23          24      5\n24          25      7\n25          26      4\n26          27      2\n27          28      7\n28          29      4\n29          30      7\n...        ...    ...\n27970    27971      5\n27971    27972      0\n27972    27973      4\n27973    27974      8\n27974    27975      0\n27975    27976      3\n27976    27977      6\n27977    27978      0\n27978    27979      1\n27979    27980      9\n27980    27981      3\n27981    27982      1\n27982    27983      1\n27983    27984      0\n27984    27985      4\n27985    27986      5\n27986    27987      2\n27987    27988      2\n27988    27989      9\n27989    27990      6\n27990    27991      7\n27991    27992      6\n27992    27993      8\n27993    27994      9\n27994    27995      7\n27995    27996      9\n27996    27997      7\n27997    27998      3\n27998    27999      9\n27999    28000      2\n\n[28000 rows x 2 columns]\n",
          "name": "stdout"
        }
      ]
    },
    {
      "metadata": {
        "trusted": true,
        "collapsed": true,
        "_uuid": "8dfa36ddc73149dc3e4a87132da260585485ae04"
      },
      "cell_type": "code",
      "source": "",
      "execution_count": null,
      "outputs": []
    }
  ],
  "metadata": {
    "kernelspec": {
      "display_name": "Python 3",
      "language": "python",
      "name": "python3"
    },
    "language_info": {
      "name": "python",
      "version": "3.6.4",
      "mimetype": "text/x-python",
      "codemirror_mode": {
        "name": "ipython",
        "version": 3
      },
      "pygments_lexer": "ipython3",
      "nbconvert_exporter": "python",
      "file_extension": ".py"
    }
  },
  "nbformat": 4,
  "nbformat_minor": 1
}